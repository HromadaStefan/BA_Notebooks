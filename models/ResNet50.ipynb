{
 "cells": [
  {
   "cell_type": "code",
   "execution_count": 1,
   "id": "c90fd862-e2b7-4acb-9220-6456f74c66d6",
   "metadata": {},
   "outputs": [],
   "source": [
    "import numpy as np\n",
    "import os\n",
    "import matplotlib.pyplot as plt\n",
    "from tensorflow.keras.applications import ResNet50\n",
    "from tensorflow.keras.preprocessing.image import img_to_array, load_img\n",
    "from tensorflow.keras.preprocessing.image import ImageDataGenerator\n",
    "from tensorflow.keras.layers import Dense, GlobalAveragePooling2D\n",
    "from tensorflow.keras.models import Model\n",
    "from tensorflow.keras.optimizers import Adam\n",
    "\n",
    "from sklearn.model_selection import train_test_split\n",
    "\n",
    "import time"
   ]
  },
  {
   "cell_type": "code",
   "execution_count": 2,
   "id": "11dd34f7-0b9f-43d8-9323-1412fc9e8721",
   "metadata": {},
   "outputs": [],
   "source": [
    "def load_images_and_labels(directory, target_size):\n",
    "    images = []\n",
    "    labels = []  \n",
    "\n",
    "    for label, class_dir in enumerate(['fake', 'real']):\n",
    "        class_dir_path = os.path.join(directory, class_dir)\n",
    "        for file_name in os.listdir(class_dir_path):\n",
    "            img_path = os.path.join(class_dir_path, file_name)\n",
    "            img = load_img(img_path, target_size=target_size)\n",
    "            img_array = img_to_array(img)\n",
    "            images.append(img_array)\n",
    "            labels.append(label)\n",
    "\n",
    "    return np.array(images), np.array(labels)"
   ]
  },
  {
   "cell_type": "code",
   "execution_count": 3,
   "id": "8b4518a4-6731-4082-9406-6fff85d10eb8",
   "metadata": {},
   "outputs": [
    {
     "name": "stderr",
     "output_type": "stream",
     "text": [
      "WARNING:absl:`lr` is deprecated in Keras optimizer, please use `learning_rate` or use the legacy optimizer, e.g.,tf.keras.optimizers.legacy.Adam.\n"
     ]
    }
   ],
   "source": [
    "start_time = time.time()\n",
    "\n",
    "# Basis-Modell laden (ohne die obersten Schichten)\n",
    "base_model = ResNet50(weights='imagenet', include_top=False)\n",
    "\n",
    "# Eigene Klassifizierungsschichten hinzufügen\n",
    "x = base_model.output\n",
    "x = GlobalAveragePooling2D()(x)\n",
    "predictions = Dense(1, activation='sigmoid')(x)  # 1 Ausgang für binäre Klassifizierung\n",
    "\n",
    "# Gesamtmodell konstruieren\n",
    "model = Model(inputs=base_model.input, outputs=predictions)\n",
    "\n",
    "# Alle Schichten im Basis-Modell einfrieren\n",
    "for layer in base_model.layers:\n",
    "    layer.trainable = False\n",
    "\n",
    "# Modell kompilieren\n",
    "model.compile(optimizer=Adam(lr=0.001), loss='binary_crossentropy', metrics=['accuracy'])\n",
    "\n",
    "dataset_dir = \"../images/car\"\n",
    "\n",
    "img_height = 128\n",
    "img_width = 128\n",
    "batch_size = 1\n",
    "\n",
    "images, labels = load_images_and_labels(dataset_dir, (img_height, img_width))\n",
    "\n",
    "# Teile die Daten in Trainings- und Testdatensätze\n",
    "X_train, X_test, y_train, y_test = train_test_split(images, labels, test_size=0.2, random_state=42)"
   ]
  },
  {
   "cell_type": "code",
   "execution_count": null,
   "id": "11ad4971-61aa-4c41-83f1-c82c192f14ec",
   "metadata": {},
   "outputs": [
    {
     "name": "stdout",
     "output_type": "stream",
     "text": [
      "Epoch 1/10\n",
      "11315/11315 [==============================] - 596s 53ms/step - loss: 0.4877 - accuracy: 0.7695 - val_loss: 0.4419 - val_accuracy: 0.8204\n",
      "Epoch 2/10\n",
      "11315/11315 [==============================] - 607s 54ms/step - loss: 0.4168 - accuracy: 0.8128 - val_loss: 0.4015 - val_accuracy: 0.8208\n",
      "Epoch 3/10\n",
      "11315/11315 [==============================] - ETA: 0s - loss: 0.3925 - accuracy: 0.8289"
     ]
    }
   ],
   "source": [
    "# Initialisiere ImageDataGenerator\n",
    "train_data_gen = ImageDataGenerator(rescale=1.0/255)\n",
    "test_data_gen = ImageDataGenerator(rescale=1.0/255)\n",
    "\n",
    "# Erstelle Trainings- und Testdatensätze mit dem ImageDataGenerator\n",
    "train_ds = train_data_gen.flow(X_train, y_train, batch_size=batch_size)\n",
    "val_ds = test_data_gen.flow(X_test, y_test, batch_size=batch_size, shuffle=False)\n",
    "\n",
    "# Modell trainieren\n",
    "model.fit(\n",
    "    train_ds,\n",
    "    steps_per_epoch=len(X_train) // batch_size,  # Verwende die Länge von X_train\n",
    "    epochs=10,\n",
    "    validation_data=val_ds,\n",
    "    validation_steps=len(X_test) // batch_size  # Verwende die Länge von X_test\n",
    ")\n",
    "\n",
    "print(\"--- %s seconds ---\" % (time.time() - start_time))\n"
   ]
  }
 ],
 "metadata": {
  "kernelspec": {
   "display_name": "Python 3 (ipykernel)",
   "language": "python",
   "name": "python3"
  },
  "language_info": {
   "codemirror_mode": {
    "name": "ipython",
    "version": 3
   },
   "file_extension": ".py",
   "mimetype": "text/x-python",
   "name": "python",
   "nbconvert_exporter": "python",
   "pygments_lexer": "ipython3",
   "version": "3.9.1"
  }
 },
 "nbformat": 4,
 "nbformat_minor": 5
}
