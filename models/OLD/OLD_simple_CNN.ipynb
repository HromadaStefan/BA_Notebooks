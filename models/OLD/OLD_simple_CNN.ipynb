{
 "cells": [
  {
   "cell_type": "code",
   "execution_count": 1,
   "id": "56d81a4a-2f3b-42cd-b457-876c9a2cb4f1",
   "metadata": {},
   "outputs": [
    {
     "name": "stderr",
     "output_type": "stream",
     "text": [
      "\n",
      "KeyboardInterrupt\n",
      "\n"
     ]
    }
   ],
   "source": [
    "import numpy as np\n",
    "import pandas as pd\n",
    "import matplotlib.pyplot as plt\n",
    "import seaborn as sns\n",
    "import os\n",
    "\n",
    "import tensorflow as tf\n",
    "from tensorflow.keras import layers, models\n",
    "from tensorflow.keras.callbacks import ModelCheckpoint\n",
    "from tensorflow.keras.preprocessing.image import ImageDataGenerator\n",
    "\n",
    "# image libraries\n",
    "import cv2"
   ]
  },
  {
   "cell_type": "code",
   "execution_count": null,
   "id": "73322706-4daf-4c1e-a93d-d332a33b39f9",
   "metadata": {},
   "outputs": [],
   "source": [
    "# directories\n",
    "train_img_path = '../images/car'\n",
    "test_img_path = '../images/02_transformed_images/x64/test'\n",
    "\n",
    "w,h = 64,64\n",
    "batch_size = 16\n",
    "\n",
    "train_data_gen = ImageDataGenerator(\n",
    "    rescale = 1.0/255\n",
    ")\n",
    "test_data_gen = ImageDataGenerator(rescale = 1.0/255)\n",
    "\n",
    "train_Dataset = train_data_gen.flow_from_directory(\n",
    "    train_img_path,\n",
    "    target_size = (w,h),\n",
    "    batch_size = batch_size,\n",
    "    class_mode = 'binary',\n",
    "    shuffle = True\n",
    ")\n",
    "\n",
    "test_Dataset = test_data_gen.flow_from_directory(\n",
    "    test_img_path,\n",
    "    target_size = (w,h),\n",
    "    batch_size = batch_size,\n",
    "    class_mode = 'binary',\n",
    "    shuffle = False\n",
    ")"
   ]
  },
  {
   "cell_type": "code",
   "execution_count": null,
   "id": "a2cef97c-76dd-4b3b-b724-ab2bfe3f468b",
   "metadata": {},
   "outputs": [],
   "source": [
    "train_Dataset.class_indices"
   ]
  },
  {
   "cell_type": "code",
   "execution_count": null,
   "id": "d9e6fce7-714d-4d05-9c75-cf94aa87ec5a",
   "metadata": {},
   "outputs": [],
   "source": [
    "train_Dataset.image_shape"
   ]
  },
  {
   "cell_type": "code",
   "execution_count": null,
   "id": "2c3857a2-26a0-4147-b5fd-fabeede012c5",
   "metadata": {},
   "outputs": [],
   "source": [
    "# Define the model\n",
    "model = models.Sequential()\n",
    "\n",
    "# Convolutional layers\n",
    "model.add(layers.Conv2D(32, (3, 3), activation='relu', input_shape=(w, h, 3)))\n",
    "model.add(layers.MaxPooling2D((2, 2)))\n",
    "model.add(layers.Conv2D(64, (3, 3), activation='relu'))\n",
    "model.add(layers.MaxPooling2D((2, 2)))\n",
    "model.add(layers.Conv2D(128, (3, 3), activation='relu'))\n",
    "model.add(layers.MaxPooling2D((2, 2)))\n",
    "\n",
    "# Flatten layer\n",
    "model.add(layers.Flatten())\n",
    "\n",
    "# Dense layers\n",
    "model.add(layers.Dense(256, activation='relu'))\n",
    "model.add(layers.Dropout(0.5))  # Optional dropout for regularization\n",
    "model.add(layers.Dense(1, activation='sigmoid'))  # Output layer with 1 neuron (binary classification)\n",
    "\n",
    "# Compile the model\n",
    "model.compile(optimizer='adam', loss='binary_crossentropy', metrics=['accuracy'])\n",
    "\n",
    "# Print a summary of the model architecture\n",
    "model.summary()"
   ]
  },
  {
   "cell_type": "code",
   "execution_count": null,
   "id": "650889a1-b055-43ce-b181-503b34653fbd",
   "metadata": {},
   "outputs": [],
   "source": [
    "# Save best model\n",
    "weight_path = '/kaggle/working/'\n",
    "\n",
    "model_checkpoint = ModelCheckpoint(\n",
    "    filepath = weight_path,\n",
    "    save_best_only = True,\n",
    "    save_weights_only = True,\n",
    "# Simpler CNN \n",
    "    mode = 'max',\n",
    "    monitor = 'val_accuracy'\n",
    ")"
   ]
  },
  {
   "cell_type": "code",
   "execution_count": null,
   "id": "55a492e4-6dfe-46b5-b094-471d21671478",
   "metadata": {},
   "outputs": [],
   "source": [
    "history = model.fit(train_Dataset, \n",
    "                    epochs=2, \n",
    "                    validation_data=test_Dataset,\n",
    "                    callbacks=[model_checkpoint]\n",
    "                   )"
   ]
  },
  {
   "cell_type": "code",
   "execution_count": null,
   "id": "f786af70-f4e7-448c-aeef-3f4e9bfc4989",
   "metadata": {},
   "outputs": [],
   "source": [
    "# load best weights to model\n",
    "model.load_weights(weight_path)\n",
    "\n",
    "# make prediction\n",
    "predictions = model.predict(test_Dataset)"
   ]
  },
  {
   "cell_type": "code",
   "execution_count": null,
   "id": "850868ce-787d-419e-842e-32c8fd5aa016",
   "metadata": {},
   "outputs": [],
   "source": [
    "binary_predictions = (predictions > 0.5).astype(int)\n",
    "binary_predictions"
   ]
  },
  {
   "cell_type": "code",
   "execution_count": null,
   "id": "8e091b73-eaab-4659-bc7a-d56921c92e91",
   "metadata": {},
   "outputs": [],
   "source": [
    "from sklearn.metrics import confusion_matrix, classification_report\n",
    "\n",
    "# Assuming you have true labels (ground truth)\n",
    "true_labels = test_Dataset.classes\n",
    "\n",
    "# Generate a confusion matrix\n",
    "sns.heatmap(confusion_matrix(true_labels, binary_predictions), annot=True)\n",
    "\n",
    "# Print classification report\n",
    "print(classification_report(true_labels, binary_predictions))\n",
    "\n",
    "plt.title('Confusion Matrix')\n",
    "plt.xlabel('Predicted')\n",
    "plt.ylabel('Actual Classes')\n",
    "plt.show()"
   ]
  }
 ],
 "metadata": {
  "kernelspec": {
   "display_name": "Python 3 (ipykernel)",
   "language": "python",
   "name": "python3"
  },
  "language_info": {
   "codemirror_mode": {
    "name": "ipython",
    "version": 3
   },
   "file_extension": ".py",
   "mimetype": "text/x-python",
   "name": "python",
   "nbconvert_exporter": "python",
   "pygments_lexer": "ipython3",
   "version": "3.9.1"
  }
 },
 "nbformat": 4,
 "nbformat_minor": 5
}
