{
 "cells": [
  {
   "cell_type": "code",
   "execution_count": 2,
   "id": "808b4e86-8d6b-4957-9f83-e2a26556c404",
   "metadata": {},
   "outputs": [],
   "source": [
    "import os\n",
    "import numpy as np\n",
    "from tensorflow.keras.preprocessing.image import img_to_array, load_img\n",
    "\n",
    "def load_images_and_labels(directory, target_size):\n",
    "    images = []\n",
    "    labels = []  \n",
    "\n",
    "    for label, class_dir in enumerate(['fake', 'real']):\n",
    "        class_dir_path = os.path.join(directory, class_dir)\n",
    "        for file_name in os.listdir(class_dir_path):\n",
    "            img_path = os.path.join(class_dir_path, file_name)\n",
    "            img = load_img(img_path, target_size=target_size)\n",
    "            img_array = img_to_array(img)\n",
    "            images.append(img_array)\n",
    "            labels.append(label)\n",
    "\n",
    "    return np.array(images), np.array(labels)"
   ]
  },
  {
   "cell_type": "code",
   "execution_count": 3,
   "id": "86ad85f3-cff7-46e2-9b77-debf8eb265ec",
   "metadata": {},
   "outputs": [
    {
     "name": "stdout",
     "output_type": "stream",
     "text": [
      "--- 83.64501452445984 seconds ---\n",
      "Klassifikationsbericht:\n",
      "              precision    recall  f1-score   support\n",
      "\n",
      "           0       0.92      0.16      0.27      1205\n",
      "           1       0.61      0.99      0.76      1624\n",
      "\n",
      "    accuracy                           0.63      2829\n",
      "   macro avg       0.77      0.57      0.51      2829\n",
      "weighted avg       0.74      0.63      0.55      2829\n",
      "\n",
      "Genauigkeit: 0.6348533050547897\n"
     ]
    }
   ],
   "source": [
    "from sklearn.neighbors import KNeighborsClassifier\n",
    "from sklearn.model_selection import train_test_split\n",
    "from sklearn.metrics import classification_report, accuracy_score\n",
    "from tensorflow.keras.preprocessing.image import ImageDataGenerator\n",
    "\n",
    "import time\n",
    "\n",
    "start_time = time.time()\n",
    "\n",
    "target_size = 128\n",
    "\n",
    "# Lade Bilder und Labels\n",
    "directory_path = '../images/car'  # Pfad zum Hauptordner\n",
    "images, labels = load_images_and_labels(directory_path, (target_size, target_size))\n",
    "\n",
    "# Bilder in 1D-Vektoren umwandeln\n",
    "images_reshaped = images.reshape(images.shape[0], -1)\n",
    "\n",
    "# Teile die Daten in Trainings- und Testdatensätze\n",
    "X_train, X_test, y_train, y_test = train_test_split(images_reshaped, labels, test_size=0.2, random_state=42)\n",
    "\n",
    "# KNN-Modell initialisieren\n",
    "knn = KNeighborsClassifier(n_neighbors=3)\n",
    "\n",
    "# Modell trainieren\n",
    "knn.fit(X_train, y_train)\n",
    "\n",
    "# Vorhersagen auf Testdaten\n",
    "y_pred = knn.predict(X_test)\n",
    "\n",
    "print(\"--- %s seconds ---\" % (time.time() - start_time))\n",
    "\n",
    "# Leistungsbewertung\n",
    "print(\"Klassifikationsbericht:\")\n",
    "print(classification_report(y_test, y_pred))\n",
    "print(\"Genauigkeit:\", accuracy_score(y_test, y_pred))"
   ]
  }
 ],
 "metadata": {
  "kernelspec": {
   "display_name": "Python 3 (ipykernel)",
   "language": "python",
   "name": "python3"
  },
  "language_info": {
   "codemirror_mode": {
    "name": "ipython",
    "version": 3
   },
   "file_extension": ".py",
   "mimetype": "text/x-python",
   "name": "python",
   "nbconvert_exporter": "python",
   "pygments_lexer": "ipython3",
   "version": "3.9.1"
  }
 },
 "nbformat": 4,
 "nbformat_minor": 5
}
